{
 "cells": [
  {
   "cell_type": "markdown",
   "metadata": {},
   "source": [
    "# Naive Bayes Classifier on IMDB Review Data set"
   ]
  },
  {
   "cell_type": "code",
   "execution_count": 2,
   "metadata": {},
   "outputs": [],
   "source": [
    "import numpy as np\n",
    "import pandas as pd\n",
    "import matplotlib.pyplot as plt\n",
    "from sklearn.feature_extraction.text import CountVectorizer\n",
    "from sklearn.feature_extraction.text import TfidfVectorizer\n",
    "from sklearn.feature_extraction.text import TfidfTransformer\n",
    "from sklearn import metrics\n",
    "from sklearn.metrics import roc_curve, auc, classification_report\n",
    "from nltk.stem.porter import PorterStemmer\n",
    "import re\n",
    "from nltk.corpus import stopwords\n",
    "import nltk\n",
    "import seaborn as sns"
   ]
  },
  {
   "cell_type": "code",
   "execution_count": 3,
   "metadata": {},
   "outputs": [],
   "source": [
    "#Read data\n",
    "data = pd.read_csv(\"./data/IMDB Dataset.csv\")"
   ]
  },
  {
   "cell_type": "code",
   "execution_count": 4,
   "metadata": {},
   "outputs": [
    {
     "data": {
      "text/plain": [
       "Index(['review', 'sentiment'], dtype='object')"
      ]
     },
     "execution_count": 4,
     "metadata": {},
     "output_type": "execute_result"
    }
   ],
   "source": [
    "data.columns"
   ]
  },
  {
   "cell_type": "markdown",
   "metadata": {},
   "source": [
    "## checking the frequency of positive and negative reviewes"
   ]
  },
  {
   "cell_type": "code",
   "execution_count": 5,
   "metadata": {},
   "outputs": [
    {
     "data": {
      "text/plain": [
       "positive    25000\n",
       "negative    25000\n",
       "Name: sentiment, dtype: int64"
      ]
     },
     "execution_count": 5,
     "metadata": {},
     "output_type": "execute_result"
    }
   ],
   "source": [
    "data[\"sentiment\"].value_counts()"
   ]
  },
  {
   "cell_type": "markdown",
   "metadata": {},
   "source": [
    "* This is a Balanced Dataset"
   ]
  },
  {
   "cell_type": "code",
   "execution_count": 6,
   "metadata": {},
   "outputs": [],
   "source": [
    "def cleanHtml(sentence):\n",
    "    cleanr = re.compile('<.*?>')\n",
    "    cleantxt = re.sub(cleanr, ' ', sentence)\n",
    "    return cleantxt\n",
    "\n",
    "def cleanpunc(sentence):\n",
    "    cleaned = re.sub(r'[?|!|\\'|\"|#]', r'', sentence)\n",
    "    cleaned = re.sub(r'[.|,|)|(|\\|/]', r' ', cleaned)\n",
    "    return cleaned"
   ]
  },
  {
   "cell_type": "markdown",
   "metadata": {},
   "source": [
    "### Text Preprocessing\n",
    "* Removing stop words from reviews\n",
    "* Removing HTML Tags and punctuations\n",
    "* Get a stem word"
   ]
  },
  {
   "cell_type": "code",
   "execution_count": 7,
   "metadata": {},
   "outputs": [],
   "source": [
    "\n",
    "sno = nltk.stem.SnowballStemmer(\"english\")\n",
    "stop = set(stopwords.words(\"english\"))\n",
    "all_positive_words = []\n",
    "all_negative_words = []\n",
    "final_string = []\n",
    "str1 = ''\n",
    "i = 0\n",
    "for string in data[\"review\"].values:\n",
    "    filtered_sentence = []\n",
    "    # Removes html tags from every review\n",
    "    sent = cleanHtml(string)\n",
    "    for w in sent.split():\n",
    "        # For every word in a review clean punctions\n",
    "        for cleanwords in cleanpunc(w).split():\n",
    "            # if cleaned is alphabet and length og words greater than 2 then proceed\n",
    "            if ((cleanwords.isalpha()) and len(cleanwords)>2):\n",
    "                # check weather word is stop word or not\n",
    "                if cleanwords.lower() not in stop:\n",
    "                    # If word is not stop word then append it to filtered sentence\n",
    "                    s = (sno.stem(cleanwords.lower())).encode('utf-8')\n",
    "                    filtered_sentence.append(s)\n",
    "                    if (data[\"sentiment\"].values)[i].lower() == \"positive\":\n",
    "                        all_positive_words.append(s)\n",
    "                    if (data[\"sentiment\"].values)[i].lower() == \"negative\":\n",
    "                        all_negative_words.append(s)\n",
    "                else:\n",
    "                    continue\n",
    "            else:\n",
    "                continue\n",
    "    # filtered_sentence is list contains all words of a review after preprocessing\n",
    "    # join every word in a list to get a string format of the review\n",
    "    str1 = b\" \".join(filtered_sentence)\n",
    "    #append all the string(cleaned reviews)to final_string\n",
    "    final_string.append(str1)\n",
    "    i += 1        "
   ]
  },
  {
   "cell_type": "code",
   "execution_count": 8,
   "metadata": {},
   "outputs": [
    {
     "name": "stdout",
     "output_type": "stream",
     "text": [
      "2923508\n",
      "2848517\n"
     ]
    }
   ],
   "source": [
    "print(len(all_positive_words))\n",
    "print(len(all_negative_words))"
   ]
  },
  {
   "cell_type": "code",
   "execution_count": null,
   "metadata": {},
   "outputs": [],
   "source": []
  },
  {
   "cell_type": "code",
   "execution_count": 20,
   "metadata": {},
   "outputs": [
    {
     "name": "stderr",
     "output_type": "stream",
     "text": [
      "/home/ganesh/.local/lib/python3.5/site-packages/scipy/stats/stats.py:1713: FutureWarning: Using a non-tuple sequence for multidimensional indexing is deprecated; use `arr[tuple(seq)]` instead of `arr[seq]`. In the future this will be interpreted as an array index, `arr[np.array(seq)]`, which will result either in an error or a different result.\n",
      "  return np.add.reduce(sorted[indexer] * weights, axis=axis) / sumval\n"
     ]
    },
    {
     "data": {
      "text/plain": [
       "<matplotlib.axes._subplots.AxesSubplot at 0x7fd42b039a90>"
      ]
     },
     "execution_count": 20,
     "metadata": {},
     "output_type": "execute_result"
    },
    {
     "data": {
      "image/png": "[encoded data removed]",
      "text/plain": [
       "<Figure size 432x288 with 1 Axes>"
      ]
     },
     "metadata": {
      "needs_background": "light"
     },
     "output_type": "display_data"
    }
   ],
   "source": [
    "from collections import Counter\n",
    "count = list(Counter(all_positive_words).values())\n",
    "sns.distplot(count)"
   ]
  },
  {
   "cell_type": "markdown",
   "metadata": {},
   "source": [
    "* Replacing the cleaned text to Data Frame\n",
    "* Replace lables with int values\n",
    "* positive = 1\n",
    "* negative = 0"
   ]
  },
  {
   "cell_type": "code",
   "execution_count": 21,
   "metadata": {},
   "outputs": [],
   "source": [
    "data[\"review\"] = final_string"
   ]
  },
  {
   "cell_type": "code",
   "execution_count": 22,
   "metadata": {},
   "outputs": [],
   "source": [
    "def conv_label(label):\n",
    "    if label.lower() == \"positive\":\n",
    "        return 1\n",
    "    elif label.lower() == \"negative\":\n",
    "        return 0\n",
    "\n",
    "data[\"sentiment\"] = data[\"sentiment\"].map(conv_label)"
   ]
  },
  {
   "cell_type": "code",
   "execution_count": 23,
   "metadata": {},
   "outputs": [
    {
     "data": {
      "text/html": [
       "<div>\n",
       "<style scoped>\n",
       "    .dataframe tbody tr th:only-of-type {\n",
       "        vertical-align: middle;\n",
       "    }\n",
       "\n",
       "    .dataframe tbody tr th {\n",
       "        vertical-align: top;\n",
       "    }\n",
       "\n",
       "    .dataframe thead th {\n",
       "        text-align: right;\n",
       "    }\n",
       "</style>\n",
       "<table border=\"1\" class=\"dataframe\">\n",
       "  <thead>\n",
       "    <tr style=\"text-align: right;\">\n",
       "      <th></th>\n",
       "      <th>review</th>\n",
       "      <th>sentiment</th>\n",
       "    </tr>\n",
       "  </thead>\n",
       "  <tbody>\n",
       "    <tr>\n",
       "      <th>0</th>\n",
       "      <td>b'one review mention watch episod youll hook r...</td>\n",
       "      <td>1</td>\n",
       "    </tr>\n",
       "    <tr>\n",
       "      <th>1</th>\n",
       "      <td>b'wonder littl product film techniqu fashion g...</td>\n",
       "      <td>1</td>\n",
       "    </tr>\n",
       "    <tr>\n",
       "      <th>2</th>\n",
       "      <td>b'thought wonder way spend time hot summer wee...</td>\n",
       "      <td>1</td>\n",
       "    </tr>\n",
       "  </tbody>\n",
       "</table>\n",
       "</div>"
      ],
      "text/plain": [
       "                                              review  sentiment\n",
       "0  b'one review mention watch episod youll hook r...          1\n",
       "1  b'wonder littl product film techniqu fashion g...          1\n",
       "2  b'thought wonder way spend time hot summer wee...          1"
      ]
     },
     "execution_count": 23,
     "metadata": {},
     "output_type": "execute_result"
    }
   ],
   "source": [
    "data.head(3)"
   ]
  },
  {
   "cell_type": "code",
   "execution_count": 24,
   "metadata": {},
   "outputs": [],
   "source": [
    "freq_pos_words = nltk.FreqDist(all_positive_words)\n",
    "freq_neg_words = nltk.FreqDist(all_negative_words)"
   ]
  },
  {
   "cell_type": "markdown",
   "metadata": {},
   "source": [
    "* Here word \"good\" is present in both positive and negative reviews.\n",
    "* It's likely contains \"Not good\" in negative a review, but due to uni gram we are loosing this information.\n",
    "* So It's better to use n-grams where n>=2"
   ]
  },
  {
   "cell_type": "code",
   "execution_count": 25,
   "metadata": {},
   "outputs": [
    {
     "data": {
      "text/plain": [
       "[(b'film', 49861),\n",
       " (b'movi', 44091),\n",
       " (b'one', 27628),\n",
       " (b'like', 20043),\n",
       " (b'time', 15973),\n",
       " (b'good', 14879),\n",
       " (b'see', 14854),\n",
       " (b'stori', 13877),\n",
       " (b'charact', 13804),\n",
       " (b'great', 13228),\n",
       " (b'make', 13222),\n",
       " (b'watch', 12782),\n",
       " (b'get', 12625),\n",
       " (b'love', 12322),\n",
       " (b'well', 11903),\n",
       " (b'show', 10958),\n",
       " (b'also', 10767),\n",
       " (b'realli', 10717),\n",
       " (b'would', 10393),\n",
       " (b'play', 9955)]"
      ]
     },
     "execution_count": 25,
     "metadata": {},
     "output_type": "execute_result"
    }
   ],
   "source": [
    "freq_pos_words.most_common(20)"
   ]
  },
  {
   "cell_type": "code",
   "execution_count": 26,
   "metadata": {},
   "outputs": [
    {
     "data": {
      "text/plain": [
       "[(b'movi', 57146),\n",
       " (b'film', 43977),\n",
       " (b'one', 26303),\n",
       " (b'like', 24083),\n",
       " (b'bad', 15519),\n",
       " (b'make', 15474),\n",
       " (b'even', 15366),\n",
       " (b'get', 15219),\n",
       " (b'watch', 14888),\n",
       " (b'time', 14818),\n",
       " (b'good', 14571),\n",
       " (b'charact', 14173),\n",
       " (b'would', 13660),\n",
       " (b'see', 13023),\n",
       " (b'realli', 12323),\n",
       " (b'look', 11407),\n",
       " (b'scene', 11182),\n",
       " (b'stori', 10798),\n",
       " (b'act', 10314),\n",
       " (b'dont', 10291)]"
      ]
     },
     "execution_count": 26,
     "metadata": {},
     "output_type": "execute_result"
    }
   ],
   "source": [
    "freq_neg_words.most_common(20)"
   ]
  },
  {
   "cell_type": "code",
   "execution_count": 27,
   "metadata": {},
   "outputs": [],
   "source": [
    "#Bag of words vector with bi-grams\n",
    "count_vect = CountVectorizer(ngram_range = (1, 2))\n",
    "count_vect = count_vect.fit(data[\"review\"].values)\n",
    "bigram_wrds = count_vect.transform(data[\"review\"].values)"
   ]
  },
  {
   "cell_type": "code",
   "execution_count": 28,
   "metadata": {},
   "outputs": [],
   "source": [
    "#TF-Idf vector using bi-grams\n",
    "count_vect_tfidf = TfidfVectorizer(ngram_range = (1, 2))\n",
    "count_vect_tfidf = count_vect_tfidf.fit(data[\"review\"].values)\n",
    "tfidf_wrds = count_vect_tfidf.transform(data[\"review\"].values)"
   ]
  },
  {
   "cell_type": "code",
   "execution_count": 94,
   "metadata": {},
   "outputs": [
    {
     "data": {
      "text/plain": [
       "<50000x2579569 sparse matrix of type '<class 'numpy.int64'>'\n",
       "\twith 10176883 stored elements in Compressed Sparse Row format>"
      ]
     },
     "execution_count": 94,
     "metadata": {},
     "output_type": "execute_result"
    }
   ],
   "source": [
    "bigram_wrds"
   ]
  },
  {
   "cell_type": "code",
   "execution_count": 29,
   "metadata": {},
   "outputs": [
    {
     "name": "stdout",
     "output_type": "stream",
     "text": [
      "acc is on test data: 88.62\n",
      "train accuracy is: 98.86571428571429\n",
      "              precision    recall  f1-score   support\n",
      "\n",
      "           0       0.87      0.91      0.89      7411\n",
      "           1       0.91      0.87      0.88      7589\n",
      "\n",
      "    accuracy                           0.89     15000\n",
      "   macro avg       0.89      0.89      0.89     15000\n",
      "weighted avg       0.89      0.89      0.89     15000\n",
      "\n"
     ]
    },
    {
     "data": {
      "image/png": "[encoded data removed]",
      "text/plain": [
       "<Figure size 432x288 with 2 Axes>"
      ]
     },
     "metadata": {
      "needs_background": "light"
     },
     "output_type": "display_data"
    }
   ],
   "source": [
    "from sklearn.metrics import confusion_matrix\n",
    "from sklearn.model_selection import train_test_split\n",
    "from sklearn.metrics import accuracy_score \n",
    "# X = bigram_wrds\n",
    "X = tfidf_wrds\n",
    "Y = data[\"sentiment\"]\n",
    "x_l, x_test, y_l, y_test = train_test_split(X, Y, test_size = 0.3, random_state = 42)\n",
    "from sklearn.naive_bayes import MultinomialNB\n",
    "clf = MultinomialNB(alpha = 0.7)\n",
    "clf.fit(x_l, y_l)\n",
    "pred = clf.predict(x_test)\n",
    "acc = accuracy_score(y_test, pred, normalize = True) * float(100)  \n",
    "print(\"acc is on test data:\", acc)\n",
    "sns.heatmap(confusion_matrix(y_test, pred), annot = True, fmt = 'd')\n",
    "train_acc = accuracy_score(y_l, clf.predict(x_l), normalize = True) * float(100)\n",
    "print(\"train accuracy is:\", train_acc)\n",
    "print(classification_report(y_test, pred))"
   ]
  },
  {
   "cell_type": "markdown",
   "metadata": {},
   "source": [
    "### BOW\n",
    "* alpha: 0.7\n",
    "* Test accuracy: 88.62 \n",
    "* Train accuracy: 99.77\n",
    "\n",
    "### TF-IDF\n",
    "* alpha: 0.7\n",
    "* Test accuracy: 88.98\n",
    "* Trina accuracy: 98.86"
   ]
  },
  {
   "cell_type": "code",
   "execution_count": 157,
   "metadata": {},
   "outputs": [],
   "source": [
    "import pickle as pkl\n",
    "f = open('my_classifier.pickle', 'wb')\n",
    "pkl.dump(clf, f)\n",
    "f.close()"
   ]
  },
  {
   "cell_type": "code",
   "execution_count": 196,
   "metadata": {},
   "outputs": [],
   "source": [
    "import pickle as pkl\n",
    "f = open('my_datar.pickle', 'wb')\n",
    "pkl.dump(count_vect, f)\n",
    "f.close()"
   ]
  },
  {
   "cell_type": "code",
   "execution_count": 45,
   "metadata": {},
   "outputs": [],
   "source": [
    "test_q = [\"This is with very bad action sequences and lot more fun is there\", \"This is with very good action sequences and lot more fun is there\"]"
   ]
  },
  {
   "cell_type": "code",
   "execution_count": 49,
   "metadata": {},
   "outputs": [],
   "source": [
    "# count_vect_tfidf = TfidfVectorizer(ngram_range = (1, 2))\n",
    "# tfidf_wrds = count_vect_tfidf.fit_transform(test_q)\n",
    "vector = TfidfVectorizer(vocabulary = count_vect_tfidf.vocabulary_)\n",
    "result = clf.predict(count_vect_tfidf.transform(test_q))"
   ]
  },
  {
   "cell_type": "code",
   "execution_count": 53,
   "metadata": {},
   "outputs": [],
   "source": [
    "vec_res = count_vect_tfidf.transform(test_q)"
   ]
  }
 ],
 "metadata": {
  "kernelspec": {
   "display_name": "Python 3",
   "language": "python",
   "name": "python3"
  },
  "language_info": {
   "codemirror_mode": {
    "name": "ipython",
    "version": 3
   },
   "file_extension": ".py",
   "mimetype": "text/x-python",
   "name": "python",
   "nbconvert_exporter": "python",
   "pygments_lexer": "ipython3",
   "version": "3.5.2"
  }
 },
 "nbformat": 4,
 "nbformat_minor": 2
}